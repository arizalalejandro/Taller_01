{
  "nbformat": 4,
  "nbformat_minor": 0,
  "metadata": {
    "colab": {
      "name": "Untitled0.ipynb",
      "provenance": [],
      "authorship_tag": "ABX9TyMWnE6mAPVCi38IxjEIuqcF",
      "include_colab_link": true
    },
    "kernelspec": {
      "name": "python3",
      "display_name": "Python 3"
    },
    "language_info": {
      "name": "python"
    }
  },
  "cells": [
    {
      "cell_type": "markdown",
      "metadata": {
        "id": "view-in-github",
        "colab_type": "text"
      },
      "source": [
        "<a href=\"https://colab.research.google.com/github/arizalalejandro/Taller_01/blob/main/Coeficiente.ipynb\" target=\"_parent\"><img src=\"https://colab.research.google.com/assets/colab-badge.svg\" alt=\"Open In Colab\"/></a>"
      ]
    },
    {
      "cell_type": "code",
      "metadata": {
        "id": "F59dJJLUZpko"
      },
      "source": [
        "#LIBRERIAS \n",
        "import numpy as np\n",
        "from sklearn.metrics import r2_score\n",
        "import time\n",
        "import pandas as pd"
      ],
      "execution_count": null,
      "outputs": []
    },
    {
      "cell_type": "code",
      "metadata": {
        "id": "zgyGBYinv7y-"
      },
      "source": [
        "#DATOS DE VOLTAJE Y DE CORRIENTE\n",
        "#VOLTAJE\n",
        "Volt=np.array([1,1.5,2,2.5,3,3.5,4,4.5,5,5.5,6])\n",
        "#CORRIENTE\n",
        "Corriente=np.array([0.169610271922408,0.283395812542308,0.386358737510785,0.470227872390909,0.433281293764675,0.600267648212653,0.738338980436742,0.790315020494445,0.877464268422459,0.84356446225183,0.96443891694455])"
      ],
      "execution_count": null,
      "outputs": []
    },
    {
      "cell_type": "code",
      "metadata": {
        "id": "1VeqrV9Nxq1r"
      },
      "source": [
        "x1=Volt;\n",
        "x0=np.ones(x1.shape)\n",
        "y=Corriente;\n",
        "#Transformación de vectores columna\n",
        "X=np.matrix([x0,x1]).T\n",
        "Y=np.matrix([y]).T"
      ],
      "execution_count": null,
      "outputs": []
    },
    {
      "cell_type": "code",
      "metadata": {
        "colab": {
          "base_uri": "https://localhost:8080/"
        },
        "id": "H-lZBkNSx4ft",
        "outputId": "f73e2a09-a933-455c-8cb9-ca245446ae95"
      },
      "source": [
        "#Valores de tetha\n",
        "Theta=(np.linalg.inv((X.T)*X))*(X.T)*Y\n",
        "Y_est=Theta[0,0]+Theta[1,0]*x1\n",
        "print(\"Tetha0 = {}, y Tetha1 = {}\".format(Theta[0],Theta[1]))\n"
      ],
      "execution_count": null,
      "outputs": [
        {
          "output_type": "stream",
          "name": "stdout",
          "text": [
            "Tetha0 = [[0.0467188]], y Tetha1 = [[0.1569703]]\n"
          ]
        }
      ]
    },
    {
      "cell_type": "code",
      "metadata": {
        "colab": {
          "base_uri": "https://localhost:8080/"
        },
        "id": "PoCQ84T4zyb_",
        "outputId": "c40d2cce-7079-426d-dd02-8178c1f80cf9"
      },
      "source": [
        "## Se encuentra el coeficiente de determinación a partir de los parametros\n",
        "y_i=0.0467188+0.1569703*Volt # valores de Tetha0 y Tetha1 \n",
        "y_p= np.sum(Corriente)/len(Corriente)\n",
        "SCE= np.sum((Corriente-y_i)**2)\n",
        "SCT= np.sum((Corriente-y_p)**2)\n",
        "R_2= 1- SCE/SCT\n",
        "print(\"Coeficiente de determinación :\",R_2)"
      ],
      "execution_count": null,
      "outputs": [
        {
          "output_type": "stream",
          "name": "stdout",
          "text": [
            "Coeficiente de determinación : 0.9678913144832818\n"
          ]
        }
      ]
    }
  ]
}